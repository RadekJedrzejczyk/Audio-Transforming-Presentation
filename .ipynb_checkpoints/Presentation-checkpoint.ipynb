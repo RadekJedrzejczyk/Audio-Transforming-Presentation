{
 "cells": [
  {
   "cell_type": "code",
   "execution_count": 1,
   "id": "329c84cb-1cdc-46e7-a24a-fc2e8d3fea0a",
   "metadata": {},
   "outputs": [],
   "source": [
    "import librosa\n",
    "import pydub"
   ]
  },
  {
   "cell_type": "markdown",
   "id": "5536e3f1-344e-4fb7-a8fc-7ca35c1a6e9a",
   "metadata": {},
   "source": [
    "Librosa basic example (from documentation, my comments)"
   ]
  },
  {
   "cell_type": "code",
   "execution_count": 10,
   "id": "94323e3a-d05e-4719-9a7c-d578fe7c6f39",
   "metadata": {},
   "outputs": [
    {
     "name": "stdout",
     "output_type": "stream",
     "text": [
      "Estimated tempo: [107.66601562] beats per minute\n"
     ]
    }
   ],
   "source": [
    "#OPENS EXAMPLE\n",
    "filename = librosa.example('nutcracker')\n",
    "\n",
    "#sampling_rate=number of samples per second of audi\n",
    "#waveform saved as one-dimensional NumPy floating point array\n",
    "waveform, sampling_rate = librosa.load(filename)\n",
    "\n",
    "#tempo in BPM\n",
    "# beat_frames - frames with detected beats, it's going to be converted. Some strange things happening there - worth double checking documentation\n",
    "tempo, beat_frames = librosa.beat.beat_track(y=waveform, sr=sampling_rate)             \n",
    "print(f'Estimated tempo: {tempo} beats per minute')\n",
    "\n",
    "# beat_times = an array of timestamps (in seconds) corresponding to detected beats.\n",
    "beat_times = librosa.frames_to_time(beat_frames, sr=sampling_rate)"
   ]
  },
  {
   "cell_type": "markdown",
   "id": "2fe9fac6-822d-40c3-8e53-24cbb06a8cf0",
   "metadata": {},
   "source": [
    "Original advance example and comments (I haven't went through it yet) from librosa documentation            "
   ]
  },
  {
   "cell_type": "code",
   "execution_count": 11,
   "id": "82bc6b16-5ab4-4891-b396-b5647c60b55b",
   "metadata": {},
   "outputs": [],
   "source": [
    "# Feature extraction example\n",
    "import numpy as np\n",
    "import librosa\n",
    "\n",
    "# Load the example clip\n",
    "y, sr = librosa.load(librosa.ex('nutcracker'))\n",
    "\n",
    "# Set the hop length; at 22050 Hz, 512 samples ~= 23ms\n",
    "hop_length = 512\n",
    "\n",
    "# Separate harmonics and percussives into two waveforms\n",
    "y_harmonic, y_percussive = librosa.effects.hpss(y)\n",
    "\n",
    "# Beat track on the percussive signal\n",
    "tempo, beat_frames = librosa.beat.beat_track(y=y_percussive,\n",
    "                                             sr=sr)\n",
    "\n",
    "# Compute MFCC features from the raw signal\n",
    "mfcc = librosa.feature.mfcc(y=y, sr=sr, hop_length=hop_length, n_mfcc=13)\n",
    "\n",
    "# And the first-order differences (delta features)\n",
    "mfcc_delta = librosa.feature.delta(mfcc)\n",
    "\n",
    "# Stack and synchronize between beat events\n",
    "# This time, we'll use the mean value (default) instead of median\n",
    "beat_mfcc_delta = librosa.util.sync(np.vstack([mfcc, mfcc_delta]),\n",
    "                                    beat_frames)\n",
    "\n",
    "# Compute chroma features from the harmonic signal\n",
    "chromagram = librosa.feature.chroma_cqt(y=y_harmonic,\n",
    "                                        sr=sr)\n",
    "\n",
    "# Aggregate chroma features between beat events\n",
    "# We'll use the median value of each feature between beat frames\n",
    "beat_chroma = librosa.util.sync(chromagram,\n",
    "                                beat_frames,\n",
    "                                aggregate=np.median)\n",
    "\n",
    "# Finally, stack all beat-synchronous features together\n",
    "beat_features = np.vstack([beat_chroma, beat_mfcc_delta])"
   ]
  },
  {
   "cell_type": "code",
   "execution_count": null,
   "id": "c5473570-a2a2-4dcc-9bf6-0d75932bd316",
   "metadata": {},
   "outputs": [],
   "source": []
  }
 ],
 "metadata": {
  "kernelspec": {
   "display_name": "Python 3 (ipykernel)",
   "language": "python",
   "name": "python3"
  },
  "language_info": {
   "codemirror_mode": {
    "name": "ipython",
    "version": 3
   },
   "file_extension": ".py",
   "mimetype": "text/x-python",
   "name": "python",
   "nbconvert_exporter": "python",
   "pygments_lexer": "ipython3",
   "version": "3.10.12"
  }
 },
 "nbformat": 4,
 "nbformat_minor": 5
}
